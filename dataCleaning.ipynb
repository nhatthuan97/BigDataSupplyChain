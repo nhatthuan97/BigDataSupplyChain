{
 "cells": [
  {
   "cell_type": "code",
   "execution_count": 1,
   "metadata": {},
   "outputs": [
    {
     "name": "stderr",
     "output_type": "stream",
     "text": [
      "/tmp/ipykernel_21256/2111712770.py:7: DtypeWarning: Columns (74,75,76,88) have mixed types. Specify dtype option on import or set low_memory=False.\n",
      "  df = pd.read_csv(csv_file_path)\n"
     ]
    }
   ],
   "source": [
    "import pandas as pd\n",
    "\n",
    "# Path to your CSV file\n",
    "csv_file_path = 'USAID_Health_Comodity_Delivery.csv'\n",
    "\n",
    "# Read the CSV file\n",
    "df = pd.read_csv(csv_file_path)\n",
    "\n",
    "\n",
    "# Convert date columns to datetime object in standard format (YYYY-MM-DD)\n",
    "date_columns = ['Order Entry Date', 'Requested Delivery Date', 'Estimated Delivery Date', 'Latest Actual Delivery Date']\n",
    "for col in date_columns:\n",
    "    df[col] = pd.to_datetime(df[col]).dt.strftime('%Y-%m-%d')\n",
    "\n",
    "# Assuming you have columns like 'Order Entry Date Year', 'Requested Delivery Date Fiscal Year', etc., you'd drop them like so:\n",
    "columns_to_drop = ['Agreed Delivery Date Year', 'Agreed Delivery Date Year Month', 'Agreed Delivery Date Fiscal Year', 'Agreed Delivery Date Fiscal Quarter Year',\n",
    "                   'Revised Agreed Delivery Date Year', 'Revised Agreed Delivery Date Year Month', 'Revised Agreed Delivery Date Fiscal Year', 'Revised Agreed Delivery Date Fiscal Quarter Year',\n",
    "                   'Order Entry Date Year', 'Order Entry Date Year Month', 'Order Entry Date Fiscal Year', 'Order Entry Date Fiscal Quarter Year',\n",
    "                   'Requested Delivery Date Year', 'Requested Delivery Date Year Month', 'Requested Delivery Date Fiscal Year', 'Requested Delivery Date Fiscal Quarter Year',\n",
    "                   'Estimated Delivery Date Year', 'Estimated Delivery Date Year Month', 'Estimated Delivery Date Fiscal Year', 'Estimated Delivery Date Fiscal Quarter Year',\n",
    "                   'Latest Actual Delivery Date Year', 'Latest Actual Delivery Date Year Month', 'Latest Actual Delivery Date Fiscal Year', 'Latest Actual Delivery Date Fiscal Quarter Year']\n",
    "# Remove any of these columns if they exist in your DataFrame\n",
    "df.drop(columns=[col for col in columns_to_drop if col in df.columns], inplace=True)\n",
    "\n",
    "\n",
    "\n"
   ]
  },
  {
   "cell_type": "code",
   "execution_count": 2,
   "metadata": {},
   "outputs": [],
   "source": [
    "df.to_csv('USAID_Health_Comodity_Delivery_CleanUp.csv', index=False)"
   ]
  },
  {
   "cell_type": "code",
   "execution_count": 6,
   "metadata": {},
   "outputs": [
    {
     "data": {
      "text/html": [
       "<div>\n",
       "<style scoped>\n",
       "    .dataframe tbody tr th:only-of-type {\n",
       "        vertical-align: middle;\n",
       "    }\n",
       "\n",
       "    .dataframe tbody tr th {\n",
       "        vertical-align: top;\n",
       "    }\n",
       "\n",
       "    .dataframe thead th {\n",
       "        text-align: right;\n",
       "    }\n",
       "</style>\n",
       "<table border=\"1\" class=\"dataframe\">\n",
       "  <thead>\n",
       "    <tr style=\"text-align: right;\">\n",
       "      <th></th>\n",
       "      <th>Base Unit</th>\n",
       "      <th>Base Unit Multiplier</th>\n",
       "    </tr>\n",
       "  </thead>\n",
       "  <tbody>\n",
       "    <tr>\n",
       "      <th>0</th>\n",
       "      <td>Each</td>\n",
       "      <td>1.0</td>\n",
       "    </tr>\n",
       "    <tr>\n",
       "      <th>1</th>\n",
       "      <td>Each</td>\n",
       "      <td>1.0</td>\n",
       "    </tr>\n",
       "    <tr>\n",
       "      <th>2</th>\n",
       "      <td>Each</td>\n",
       "      <td>1.0</td>\n",
       "    </tr>\n",
       "    <tr>\n",
       "      <th>3</th>\n",
       "      <td>Each</td>\n",
       "      <td>1.0</td>\n",
       "    </tr>\n",
       "    <tr>\n",
       "      <th>4</th>\n",
       "      <td>Each</td>\n",
       "      <td>1.0</td>\n",
       "    </tr>\n",
       "    <tr>\n",
       "      <th>...</th>\n",
       "      <td>...</td>\n",
       "      <td>...</td>\n",
       "    </tr>\n",
       "    <tr>\n",
       "      <th>38500</th>\n",
       "      <td>Vial</td>\n",
       "      <td>5.0</td>\n",
       "    </tr>\n",
       "    <tr>\n",
       "      <th>38501</th>\n",
       "      <td>Each</td>\n",
       "      <td>1.0</td>\n",
       "    </tr>\n",
       "    <tr>\n",
       "      <th>38502</th>\n",
       "      <td>Kit</td>\n",
       "      <td>1.0</td>\n",
       "    </tr>\n",
       "    <tr>\n",
       "      <th>38503</th>\n",
       "      <td>Kit</td>\n",
       "      <td>1.0</td>\n",
       "    </tr>\n",
       "    <tr>\n",
       "      <th>38504</th>\n",
       "      <td>Set</td>\n",
       "      <td>1.0</td>\n",
       "    </tr>\n",
       "  </tbody>\n",
       "</table>\n",
       "<p>38505 rows × 2 columns</p>\n",
       "</div>"
      ],
      "text/plain": [
       "      Base Unit  Base Unit Multiplier\n",
       "0          Each                   1.0\n",
       "1          Each                   1.0\n",
       "2          Each                   1.0\n",
       "3          Each                   1.0\n",
       "4          Each                   1.0\n",
       "...         ...                   ...\n",
       "38500      Vial                   5.0\n",
       "38501      Each                   1.0\n",
       "38502       Kit                   1.0\n",
       "38503       Kit                   1.0\n",
       "38504       Set                   1.0\n",
       "\n",
       "[38505 rows x 2 columns]"
      ]
     },
     "execution_count": 6,
     "metadata": {},
     "output_type": "execute_result"
    }
   ],
   "source": [
    "df[['Base Unit','Base Unit Multiplier']]"
   ]
  },
  {
   "cell_type": "code",
   "execution_count": null,
   "metadata": {},
   "outputs": [],
   "source": []
  }
 ],
 "metadata": {
  "kernelspec": {
   "display_name": "base",
   "language": "python",
   "name": "python3"
  },
  "language_info": {
   "codemirror_mode": {
    "name": "ipython",
    "version": 3
   },
   "file_extension": ".py",
   "mimetype": "text/x-python",
   "name": "python",
   "nbconvert_exporter": "python",
   "pygments_lexer": "ipython3",
   "version": "3.11.5"
  }
 },
 "nbformat": 4,
 "nbformat_minor": 2
}
