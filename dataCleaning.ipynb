{
 "cells": [
  {
   "cell_type": "code",
   "execution_count": 2,
   "metadata": {},
   "outputs": [
    {
     "name": "stdout",
     "output_type": "stream",
     "text": [
      "                    ROPOLine Task Order Condom Adjusted Task Order  \\\n",
      "0      RO10025160PO100032471        TO1                        TO1   \n",
      "1      RO10025160PO100032521        TO1                        TO1   \n",
      "2      RO10025160PO100032781        TO1                        TO1   \n",
      "3      RO10025160PO100032541        TO1                        TO1   \n",
      "4      RO10025160PO100032421        TO1                        TO1   \n",
      "...                      ...        ...                        ...   \n",
      "38500  RO10033211PO100049871        TO1                        TO1   \n",
      "38501  RO10098134PO100183271        TO2                        TO2   \n",
      "38502  RO10039232PO100055651        TO1                        TO1   \n",
      "38503  RO10023226PO100030351        TO1                        TO1   \n",
      "38504  RO10108446PO100179042        TO2                        TO2   \n",
      "\n",
      "          Country   RO Number PO DO IO Number Order Number  Prime Line Number  \\\n",
      "0      Mozambique  RO10025160      PO10003247   PO10003247                  1   \n",
      "1      Mozambique  RO10025160      PO10003252   PO10003252                  1   \n",
      "2      Mozambique  RO10025160      PO10003278   PO10003278                  1   \n",
      "3      Mozambique  RO10025160      PO10003254   PO10003254                  1   \n",
      "4      Mozambique  RO10025160      PO10003242   PO10003242                  1   \n",
      "...           ...         ...             ...          ...                ...   \n",
      "38500    Zimbabwe  RO10033211      PO10004987   PO10004987                  1   \n",
      "38501     Senegal  RO10098134      PO10018327   PO10018327                  1   \n",
      "38502    Zimbabwe  RO10039232      PO10005565   PO10005565                  1   \n",
      "38503    Tanzania  RO10023226      PO10003035   PO10003035                  1   \n",
      "38504      Zambia  RO10108446      PO10017904   PO10017904                  2   \n",
      "\n",
      "              Status Name TLP Indicator  ... RO Validation  \\\n",
      "0      Shipment Delivered           DCP  ...           NaN   \n",
      "1      Shipment Delivered           DCP  ...           NaN   \n",
      "2      Shipment Delivered           DCP  ...           NaN   \n",
      "3      Shipment Delivered           DCP  ...           NaN   \n",
      "4      Shipment Delivered           DCP  ...           NaN   \n",
      "...                   ...           ...  ...           ...   \n",
      "38500  Shipment Delivered           GSC  ...          43.0   \n",
      "38501  Shipment Delivered           GSC  ...           1.0   \n",
      "38502  Shipment Delivered           GSC  ...          32.0   \n",
      "38503  Shipment Delivered           GSC  ...           2.0   \n",
      "38504  Shipment Delivered           GSC  ...           4.0   \n",
      "\n",
      "      Sourcing and Planning USAID Approval Process PO/DO Manufacture Pick Up  \\\n",
      "0                       NaN            0.0         261.0         NaN     NaN   \n",
      "1                       NaN            0.0         263.0         NaN     NaN   \n",
      "2                       NaN            0.0         261.0         NaN     NaN   \n",
      "3                       NaN            0.0         261.0         NaN     NaN   \n",
      "4                       NaN            0.0         262.0         NaN     NaN   \n",
      "...                     ...            ...           ...         ...     ...   \n",
      "38500                  78.0            1.0          33.0         NaN     NaN   \n",
      "38501                 288.0            1.0           8.0       224.0    94.0   \n",
      "38502                  30.0            5.0           7.0         NaN     NaN   \n",
      "38503                  82.0            0.0          69.0         NaN     NaN   \n",
      "38504                 130.0            2.0          14.0        35.0    19.0   \n",
      "\n",
      "      Deliver Quality Assurance Reason Code  Reason Code Duration  \n",
      "0         NaN               NaN         NaN                   NaN  \n",
      "1         NaN               NaN         NaN                   NaN  \n",
      "2         NaN               NaN         NaN                   NaN  \n",
      "3         NaN               NaN         NaN                   NaN  \n",
      "4         NaN               NaN         NaN                   NaN  \n",
      "...       ...               ...         ...                   ...  \n",
      "38500    10.0               NaN         NaN                   NaN  \n",
      "38501    78.0              45.0       AD070              -28030.0  \n",
      "38502    82.0               NaN         NaN                   NaN  \n",
      "38503     NaN               NaN         NaN                   NaN  \n",
      "38504    76.0              95.0       AD012                 -59.0  \n",
      "\n",
      "[38505 rows x 80 columns]\n"
     ]
    },
    {
     "name": "stderr",
     "output_type": "stream",
     "text": [
      "/tmp/ipykernel_581/1138437588.py:7: DtypeWarning: Columns (74,75,76,88) have mixed types. Specify dtype option on import or set low_memory=False.\n",
      "  df = pd.read_csv(csv_file_path)\n"
     ]
    }
   ],
   "source": [
    "import pandas as pd\n",
    "\n",
    "# Path to your CSV file\n",
    "csv_file_path = 'USAID_Health_Comodity_Delivery.csv'\n",
    "\n",
    "# Read the CSV file\n",
    "df = pd.read_csv(csv_file_path)\n",
    "\n",
    "\n",
    "# Convert date columns to datetime object in standard format (YYYY-MM-DD)\n",
    "date_columns = ['Order Entry Date', 'Requested Delivery Date', 'Estimated Delivery Date', 'Latest Actual Delivery Date']\n",
    "for col in date_columns:\n",
    "    df[col] = pd.to_datetime(df[col]).dt.strftime('%Y-%m-%d')\n",
    "\n",
    "# Assuming you have columns like 'Order Entry Date Year', 'Requested Delivery Date Fiscal Year', etc., you'd drop them like so:\n",
    "columns_to_drop = ['Agreed Delivery Date Year', 'Agreed Delivery Date Year Month', 'Agreed Delivery Date Fiscal Year', 'Agreed Delivery Date Fiscal Quarter Year',\n",
    "                   'Revised Agreed Delivery Date Year', 'Revised Agreed Delivery Date Year Month', 'Revised Agreed Delivery Date Fiscal Year', 'Revised Agreed Delivery Date Fiscal Quarter Year',\n",
    "                   'Order Entry Date Year', 'Order Entry Date Year Month', 'Order Entry Date Fiscal Year', 'Order Entry Date Fiscal Quarter Year',\n",
    "                   'Requested Delivery Date Year', 'Requested Delivery Date Year Month', 'Requested Delivery Date Fiscal Year', 'Requested Delivery Date Fiscal Quarter Year',\n",
    "                   'Estimated Delivery Date Year', 'Estimated Delivery Date Year Month', 'Estimated Delivery Date Fiscal Year', 'Estimated Delivery Date Fiscal Quarter Year',\n",
    "                   'Latest Actual Delivery Date Year', 'Latest Actual Delivery Date Year Month', 'Latest Actual Delivery Date Fiscal Year', 'Latest Actual Delivery Date Fiscal Quarter Year']\n",
    "# Remove any of these columns if they exist in your DataFrame\n",
    "df.drop(columns=[col for col in columns_to_drop if col in df.columns], inplace=True)\n",
    "\n",
    "\n",
    "\n"
   ]
  },
  {
   "cell_type": "code",
   "execution_count": 4,
   "metadata": {},
   "outputs": [],
   "source": [
    "df.to_csv('USAID_Health_Comodity_Delivery_CleanUp.csv', index=False)"
   ]
  },
  {
   "cell_type": "code",
   "execution_count": null,
   "metadata": {},
   "outputs": [],
   "source": []
  }
 ],
 "metadata": {
  "kernelspec": {
   "display_name": "base",
   "language": "python",
   "name": "python3"
  },
  "language_info": {
   "codemirror_mode": {
    "name": "ipython",
    "version": 3
   },
   "file_extension": ".py",
   "mimetype": "text/x-python",
   "name": "python",
   "nbconvert_exporter": "python",
   "pygments_lexer": "ipython3",
   "version": "3.11.5"
  }
 },
 "nbformat": 4,
 "nbformat_minor": 2
}
